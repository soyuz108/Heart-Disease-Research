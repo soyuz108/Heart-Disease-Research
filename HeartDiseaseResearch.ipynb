{
 "cells": [
  {
   "cell_type": "markdown",
   "metadata": {},
   "source": [
    "## Cholesterol Analysis\n",
    "The full dataset has been loaded and split into two subsets:\n",
    "\n",
    "`yes_hd`, which contains data for patients with heart disease\n",
    "`no_hd`, which contains data for patients without heart disease\n",
    "\n",
    "For this project, we’ll investigate the following variables:\n",
    "\n",
    "`chol`: serum cholestorol in mg/dl\n",
    "`fbs`: an indicator for whether fasting blood sugar is greater than 120 mg/dl (`1` = true; `0` = false)"
   ]
  },
  {
   "cell_type": "code",
   "execution_count": 23,
   "metadata": {},
   "outputs": [],
   "source": [
    "# Import libraries\n",
    "import pandas as pd\n",
    "import numpy as np\n",
    "\n",
    "from scipy.stats import ttest_1samp\n",
    "from scipy.stats import binom_test\n",
    "from scipy.stats import ttest_ind\n",
    "from scipy.stats import f_oneway\n",
    "from scipy.stats import chi2_contingency\n",
    "\n",
    "from statsmodels.stats.multicomp import pairwise_tukeyhsd\n",
    "\n",
    "import matplotlib.pyplot as plt \n",
    "import seaborn as sns\n",
    "\n",
    "# Load data\n",
    "heart = pd.read_csv('heart_disease_data.csv')\n",
    "yes_hd = heart[heart.heart_disease == 'presence']\n",
    "no_hd = heart[heart.heart_disease == 'absence']"
   ]
  },
  {
   "cell_type": "markdown",
   "metadata": {},
   "source": [
    "To start, we’ll investigate cholesterol levels for patients with heart disease. We'll be using the dataset `yes_hd` to save cholesterol levels for patients with heart disease as a variable named `chol_hd`."
   ]
  },
  {
   "cell_type": "code",
   "execution_count": 24,
   "metadata": {},
   "outputs": [
    {
     "name": "stdout",
     "output_type": "stream",
     "text": [
      "251\n"
     ]
    }
   ],
   "source": [
    "# Get cholesterol levels for patients with heart disease\n",
    "chol_hd = yes_hd.chol\n",
    "\n",
    "# Calculate the mean cholesterol for people with heart disease\n",
    "mean_chol_hd = np.mean(chol_hd)\n",
    "# Print the rounded value\n",
    "print(round(mean_chol_hd))"
   ]
  },
  {
   "cell_type": "markdown",
   "metadata": {},
   "source": [
    "We want to know if people with heart disease have high cholesterol levels (greater than or equal to 240 mg/dl) on average. We'll have to run a two-sided test for it."
   ]
  },
  {
   "cell_type": "code",
   "execution_count": 25,
   "metadata": {},
   "outputs": [
    {
     "name": "stdout",
     "output_type": "stream",
     "text": [
      "0.0035411033905155703\n"
     ]
    }
   ],
   "source": [
    "# Compare to cut-off for high cholesterol\n",
    "tstat, pval = ttest_1samp(chol_hd, 240)\n",
    "# Calculate the p-value for the one-sided test by dividing the two-sided p-value in half\n",
    "print(pval/2)"
   ]
  },
  {
   "cell_type": "markdown",
   "metadata": {},
   "source": [
    "The result `0.0035` is less than a significance threshold of `0.05`, suggesting that heart disease patients have an average cholesterol level higher than 240 mg/dl.\n",
    "\n",
    "Now we want to answer the same question for patients without heart disease, thus we'll repeat the previous steps for `no_hd`."
   ]
  },
  {
   "cell_type": "code",
   "execution_count": 26,
   "metadata": {},
   "outputs": [
    {
     "name": "stdout",
     "output_type": "stream",
     "text": [
      "243\n",
      "0.26397120232220506\n"
     ]
    }
   ],
   "source": [
    "# Get cholesterol levels for patients without heart disease\n",
    "chol_no_hd = no_hd.chol\n",
    "\n",
    "# Calculate the mean cholesterol for people without heart disease\n",
    "mean_chol_no_hd = np.mean(chol_no_hd)\n",
    "# Print the rounded value\n",
    "print(round(mean_chol_no_hd))\n",
    "\n",
    "# Compare to cut-off for high cholesterol\n",
    "tstat, pval = ttest_1samp(chol_no_hd, 240)\n",
    "# Calculate the p-value for the one-sided test by dividing the two-sided p-value in half\n",
    "print(pval/2)"
   ]
  },
  {
   "cell_type": "markdown",
   "metadata": {},
   "source": [
    "## Fasting Blood Sugar Analysis\n",
    "\n",
    "The fbs column of this dataset indicates whether or not a patient’s fasting blood sugar was greater than 120 mg/dl (`1` means that their fasting blood sugar was greater than 120 mg/dl; `0` means it was less than or equal to 120 mg/dl). Thus, we can first calculate the length of the dataset and then use `sum` to separate those of greater blood sugar value."
   ]
  },
  {
   "cell_type": "code",
   "execution_count": 27,
   "metadata": {},
   "outputs": [
    {
     "name": "stdout",
     "output_type": "stream",
     "text": [
      "303\n",
      "45.0\n"
     ]
    }
   ],
   "source": [
    "# Calculate the total number of patients in the heart dataset\n",
    "num_patients = len(heart)\n",
    "# Print the results\n",
    "print(num_patients)\n",
    "\n",
    "# Calculate number of patients with fbs>120\n",
    "num_highfbs_patients = np.sum(heart.fbs)\n",
    "# Print the results\n",
    "print(num_highfbs_patients)"
   ]
  },
  {
   "cell_type": "markdown",
   "metadata": {},
   "source": [
    "Sometimes, part of an analysis will involve comparing a sample to known population values to see if the sample appears to be representative of the general population. By some estimates, about 8% of the U.S. population had diabetes (diagnosed or undiagnosed) in 1988. \n",
    "\n",
    "While there are multiple tests that contribute to a diabetes diagnosis, fasting blood sugar levels greater than 120 mg/dl can be indicative of diabetes (or at least, pre-diabetes). We want to know approximately how many people would have diabetes, if this sample were representative of the population.\n",
    "\n"
   ]
  },
  {
   "cell_type": "code",
   "execution_count": 28,
   "metadata": {},
   "outputs": [
    {
     "name": "stdout",
     "output_type": "stream",
     "text": [
      "24\n"
     ]
    }
   ],
   "source": [
    "# Calculate 8% of sample size\n",
    "print(round(0.08*num_patients))"
   ]
  },
  {
   "cell_type": "markdown",
   "metadata": {},
   "source": [
    "This comes out to approximately 24 patients, which is almost half the number with fbs > 120 in the sample (45).\n",
    "\n",
    "We now can test the following null and alternative hypotheses:\n",
    "\n",
    "- Null: This sample was drawn from a population where 8% of people have fasting blood sugar > 120 mg/dl\n",
    "- Alternative: This sample was drawn from a population where more than 8% of people have fasting blood sugar > 120 mg/dl\n",
    "\n",
    "The `binom_test()` function takes four parameters:\n",
    "- The number of people in the sample who had fasting blood sugar greater than 120 mg/dl\n",
    "- The total number of patients\n",
    "- The null probability of \"success\" - in this case, 0.08\n",
    "- The alternative parameter, which indicates the alternative hypothesis for the test - in this case, \"greater\"\n",
    "The output is the p-value."
   ]
  },
  {
   "cell_type": "code",
   "execution_count": 29,
   "metadata": {},
   "outputs": [
    {
     "name": "stdout",
     "output_type": "stream",
     "text": [
      "4.6894719514488777e-05\n"
     ]
    }
   ],
   "source": [
    "# Run binomial test\n",
    "pval = binom_test(num_highfbs_patients, num_patients, .08, alternative='greater')\n",
    "# Print the result\n",
    "print(pval)"
   ]
  },
  {
   "cell_type": "markdown",
   "metadata": {},
   "source": [
    "\n",
    "The result is equivalent to 0.0000469. This is less than a significance threshold of 0.05, indicating that this sample likely comes from a population where more than 8% of people have fbs > 120 mg/dl."
   ]
  },
  {
   "cell_type": "markdown",
   "metadata": {},
   "source": [
    "### Predictors of Heart Disease\n",
    "Each of the patients in this dataset underwent an exercise test, during which their heart rate was monitored. For each patient, `thalach` gives us the highest heart rate that the patient achieved during this test.\n",
    "\n",
    "We'd like to see if `thalach` is associated with whether or not a patient will ultimately be diagnosed with `heart_disease`. We'll plot side by side box plots of `thalach` for patients who were and were not diagnosed to check if there is a relationship between variables."
   ]
  },
  {
   "cell_type": "code",
   "execution_count": 30,
   "metadata": {},
   "outputs": [
    {
     "data": {
      "image/png": "[encoded data removed]",
      "text/plain": [
       "<Figure size 432x288 with 1 Axes>"
      ]
     },
     "metadata": {
      "needs_background": "light"
     },
     "output_type": "display_data"
    }
   ],
   "source": [
    "# Create and show box plots of thalach based on heart disease\n",
    "sns.boxplot(x = heart.heart_disease, y = heart.thalach)\n",
    "plt.show()"
   ]
  },
  {
   "cell_type": "markdown",
   "metadata": {},
   "source": [
    "Based on this plot, patients diagnosed with heart disease generally had a lower maximum heart rate during their exercise test."
   ]
  },
  {
   "cell_type": "code",
   "execution_count": 31,
   "metadata": {},
   "outputs": [
    {
     "name": "stdout",
     "output_type": "stream",
     "text": [
      "Mean Difference for thalach:  19.12\n",
      "Median Difference for thalach:  19.0\n"
     ]
    }
   ],
   "source": [
    "# Save thalach for hd patients and non-hd patients\n",
    "thalach_hd = heart.thalach[heart.heart_disease == 'presence']\n",
    "thalach_no_hd = heart.thalach[heart.heart_disease == 'absence']\n",
    "\n",
    "# Calculate and print mean difference\n",
    "mean_diff = np.mean(thalach_no_hd) - np.mean(thalach_hd)\n",
    "print(\"Mean Difference for thalach: \", round(mean_diff, 2))\n",
    "\n",
    "# Calculate and print median difference\n",
    "med_diff = np.median(thalach_no_hd) - np.median(thalach_hd)\n",
    "print(\"Median Difference for thalach: \", med_diff)"
   ]
  },
  {
   "cell_type": "markdown",
   "metadata": {},
   "source": [
    "We’d like to find out if the average thalach of a heart disease patient is significantly different from the average thalach for a person without heart disease. We'll test the following null and alternative hypotheses:\n",
    "- null: the average thalach for a person with heart disease is equal to the average thalach for a person without heart disease\n",
    "- alternative: the average thalach for a person with heart disease is NOT equal to the average thalach for a person without heart disease"
   ]
  },
  {
   "cell_type": "code",
   "execution_count": 32,
   "metadata": {},
   "outputs": [
    {
     "name": "stdout",
     "output_type": "stream",
     "text": [
      "p-value for `thalach` two-sample t-test:  3.456964908430172e-14\n"
     ]
    }
   ],
   "source": [
    "# Run two-sample t-test\n",
    "tstat, pval = ttest_ind(thalach_hd, thalach_no_hd)\n",
    "print(\"p-value for `thalach` two-sample t-test: \", pval)"
   ]
  },
  {
   "cell_type": "markdown",
   "metadata": {},
   "source": [
    "The result of the two-sample test is equivalent to 0.00000000000003457. Using a significance threshold of 0.05, we “reject the null hypothesis” and conclude that there is a significant difference in 'thalach' for people with heart disease compared to people without heart disease.\n",
    "\n",
    "Using the same process, let's investigate other quantitative variables."
   ]
  },
  {
   "cell_type": "code",
   "execution_count": 33,
   "metadata": {},
   "outputs": [
    {
     "data": {
      "image/png": "[encoded data removed]",
      "text/plain": [
       "<Figure size 432x288 with 1 Axes>"
      ]
     },
     "metadata": {
      "needs_background": "light"
     },
     "output_type": "display_data"
    },
    {
     "name": "stdout",
     "output_type": "stream",
     "text": [
      "Mean Difference for age:  4.040533426917001\n",
      "Median Difference for age:  6.0\n",
      "p-value for age two-sample t-test:  8.95563691752971e-05\n"
     ]
    },
    {
     "data": {
      "image/png": "[encoded data removed]",
      "text/plain": [
       "<Figure size 432x288 with 1 Axes>"
      ]
     },
     "metadata": {
      "needs_background": "light"
     },
     "output_type": "display_data"
    },
    {
     "name": "stdout",
     "output_type": "stream",
     "text": [
      "Mean Difference for trestbps:  5.318345323740999\n",
      "Median Difference for trestbps:  0.0\n",
      "p-value for trestbps two-sample t-test:  0.008548268928594928\n"
     ]
    },
    {
     "data": {
      "image/png": "[encoded data removed]",
      "text/plain": [
       "<Figure size 432x288 with 1 Axes>"
      ]
     },
     "metadata": {
      "needs_background": "light"
     },
     "output_type": "display_data"
    },
    {
     "name": "stdout",
     "output_type": "stream",
     "text": [
      "Mean Difference for chol:  8.834576241445887\n",
      "Median Difference for chol:  14.5\n",
      "p-value for chol two-sample t-test:  0.13914167020436527\n"
     ]
    }
   ],
   "source": [
    "# Calculate age variable\n",
    "plt.clf()\n",
    "sns.boxplot(x=heart.heart_disease, y=heart.age)\n",
    "plt.show()\n",
    "\n",
    "age_hd = heart.age[heart.heart_disease == 'presence']\n",
    "age_no_hd = heart.age[heart.heart_disease == 'absence']\n",
    "\n",
    "mean_diff = np.mean(age_hd) - np.mean(age_no_hd)\n",
    "print(\"Mean Difference for age: \", mean_diff)\n",
    "\n",
    "med_diff = np.median(age_hd) - np.median(age_no_hd)\n",
    "print(\"Median Difference for age: \", med_diff)\n",
    "\n",
    "tstat, pval = ttest_ind(age_hd, age_no_hd)\n",
    "print(\"p-value for age two-sample t-test: \", pval)\n",
    "\n",
    "# Calculate trestbps variable\n",
    "plt.clf()\n",
    "sns.boxplot(x=heart.heart_disease, y=heart.trestbps)\n",
    "plt.show()\n",
    "\n",
    "trestbps_hd = heart.trestbps[heart.heart_disease == 'presence']\n",
    "trestbps_no_hd = heart.trestbps[heart.heart_disease == 'absence']\n",
    "\n",
    "mean_diff = np.mean(trestbps_hd) - np.mean(trestbps_no_hd)\n",
    "print(\"Mean Difference for trestbps: \", mean_diff)\n",
    "\n",
    "med_diff = np.median(trestbps_hd) - np.median(trestbps_no_hd)\n",
    "print(\"Median Difference for trestbps: \", med_diff)\n",
    "\n",
    "tstat, pval = ttest_ind(trestbps_hd, trestbps_no_hd)\n",
    "print(\"p-value for trestbps two-sample t-test: \", pval)\n",
    "\n",
    "# Calculate chol variable\n",
    "plt.clf()\n",
    "sns.boxplot(x=heart.heart_disease, y=heart.chol)\n",
    "plt.show()\n",
    "\n",
    "chol_hd = heart.chol[heart.heart_disease == 'presence']\n",
    "chol_no_hd = heart.chol[heart.heart_disease == 'absence']\n",
    "\n",
    "mean_diff = np.mean(chol_hd) - np.mean(chol_no_hd)\n",
    "print(\"Mean Difference for chol: \", mean_diff)\n",
    "\n",
    "med_diff = np.median(chol_hd) - np.median(chol_no_hd)\n",
    "print(\"Median Difference for chol: \", med_diff)\n",
    "\n",
    "tstat, pval = ttest_ind(chol_hd, chol_no_hd)\n",
    "print(\"p-value for chol two-sample t-test: \", pval)"
   ]
  },
  {
   "cell_type": "markdown",
   "metadata": {},
   "source": [
    "### Chest Pain and Max Heart Rate\n",
    "Now we want to investigate the relationship between `thalach` (maximum heart rate achieved during exercise) and the type of heart pain a person experiences. Let's create a set of side-by-side box plots of thalach for each chest pain type in the data. "
   ]
  },
  {
   "cell_type": "code",
   "execution_count": 34,
   "metadata": {},
   "outputs": [
    {
     "data": {
      "image/png": "[encoded data removed]",
      "text/plain": [
       "<Figure size 432x288 with 1 Axes>"
      ]
     },
     "metadata": {
      "needs_background": "light"
     },
     "output_type": "display_data"
    }
   ],
   "source": [
    "# Create and show box plots of thalach and the type of heart pain\n",
    "plt.clf()\n",
    "sns.boxplot(x = heart.cp, y = heart.thalach)\n",
    "plt.show()"
   ]
  },
  {
   "cell_type": "code",
   "execution_count": 35,
   "metadata": {},
   "outputs": [],
   "source": [
    "# Save thalach based on cp\n",
    "thalach_typical = heart.thalach[heart.cp == \"typical angina\"]\n",
    "thalach_asymptom = heart.thalach[heart.cp == \"asymptomatic\"]\n",
    "thalach_nonangin = heart.thalach[heart.cp == \"non-anginal pain\"]\n",
    "thalach_atypical = heart.thalach[heart.cp == \"atypical angina\"]\n"
   ]
  },
  {
   "cell_type": "markdown",
   "metadata": {},
   "source": [
    "Now we want to run a single hypothesis test to address the following null and alternative hypotheses:\n",
    "- null: people with typical angina, non-anginal pain, atypical angina, and asymptomatic people all have the same average thalach\n",
    "- alternative: people with typical angina, non-anginal pain, atypical angina, and asymptomatic people do not all have the same average thalach\n",
    "\n",
    "This test addresses an association between two variables: a non-binary categorical variable (cp, with four possible options) and a quantitative variable (thalach)."
   ]
  },
  {
   "cell_type": "code",
   "execution_count": 36,
   "metadata": {},
   "outputs": [
    {
     "name": "stdout",
     "output_type": "stream",
     "text": [
      "p-value for ANOVA:  1.9065505247705008e-10\n"
     ]
    }
   ],
   "source": [
    "# Run ANOVA\n",
    "fstat, pval = f_oneway(thalach_typical, thalach_asymptom, thalach_nonangin, thalach_atypical)\n",
    "# Print out the result\n",
    "print(\"p-value for ANOVA: \", pval)"
   ]
  },
  {
   "cell_type": "markdown",
   "metadata": {},
   "source": [
    "Using a significance threshold of 0.05, we can see there is at least one pair of chest pain categories for which people in those categories have significantly different `thalach`. We need to run another hypothesis test to determine which of those pairs are significantly different using an overall type I error rate of 0.05 for all six comparisons.\n",
    "\n",
    "For this test, we need Tukey’s range test, which can be implemented with `pairwise_tukeyhsd`."
   ]
  },
  {
   "cell_type": "code",
   "execution_count": 37,
   "metadata": {},
   "outputs": [
    {
     "name": "stdout",
     "output_type": "stream",
     "text": [
      "           Multiple Comparison of Means - Tukey HSD, FWER=0.05           \n",
      "=========================================================================\n",
      "     group1           group2      meandiff p-adj   lower    upper  reject\n",
      "-------------------------------------------------------------------------\n",
      "    asymptomatic  atypical angina  21.7394    0.0  12.7442 30.7347   True\n",
      "    asymptomatic non-anginal pain  14.7264    0.0   7.2583 22.1945   True\n",
      "    asymptomatic   typical angina   15.276 0.0081   2.9707 27.5812   True\n",
      " atypical angina non-anginal pain   -7.013 0.2481 -16.7587  2.7327  False\n",
      " atypical angina   typical angina  -6.4635 0.6213 -20.2702  7.3432  False\n",
      "non-anginal pain   typical angina   0.5495 0.9995 -12.3145 13.4136  False\n",
      "-------------------------------------------------------------------------\n"
     ]
    }
   ],
   "source": [
    "# Run Tukey's range test\n",
    "output = pairwise_tukeyhsd(heart.thalach, heart.cp)\n",
    "# Print out the result\n",
    "print(output)"
   ]
  },
  {
   "cell_type": "markdown",
   "metadata": {},
   "source": [
    "For any pair where “Reject” is “True”, we conclude that people with those chest pain types have significantly different maximum heart rates during exercise. In this case, we can conclude that people who are 'asymptomatic' seem to have a lower maximum heart rate (associated with heart disease) than people who have other kinds of chest pain.\n",
    "\n",
    "### Heart Disease and Chest Pain\n",
    "\n",
    "Finally, let’s investigate the relationship between the kind of chest pain a person experiences and whether or not they have heart disease."
   ]
  },
  {
   "cell_type": "code",
   "execution_count": 38,
   "metadata": {},
   "outputs": [
    {
     "name": "stdout",
     "output_type": "stream",
     "text": [
      "heart_disease     absence  presence\n",
      "cp                                 \n",
      "asymptomatic           39       105\n",
      "atypical angina        41         9\n",
      "non-anginal pain       68        18\n",
      "typical angina         16         7\n"
     ]
    }
   ],
   "source": [
    "# Create a contingency table of cp and heart_disease\n",
    "Xtab = pd.crosstab(heart.cp, heart.heart_disease)\n",
    "# Print out the result\n",
    "print(Xtab)"
   ]
  },
  {
   "cell_type": "markdown",
   "metadata": {},
   "source": [
    "Based on this table, it seems like people who are diagnosed with heart disease tend to be asymptomatic, while people with who are not diagnosed with heart disease tend to have different kinds of chest pain. Let's run a hypothesis test for the following null and alternative hypotheses:\n",
    "- null: there is NOT an association between chest pain type and whether or not someone is diagnosed with heart disease\n",
    "- alternative: there is an association between chest pain type and whether or not someone is diagnosed with heart disease\n",
    "\n",
    "This test investigates an association between two categorical variables, so we need to use a Chi-Square test. "
   ]
  },
  {
   "cell_type": "code",
   "execution_count": 39,
   "metadata": {},
   "outputs": [
    {
     "name": "stdout",
     "output_type": "stream",
     "text": [
      "p-value for chi-square test:  1.2517106007837527e-17\n"
     ]
    }
   ],
   "source": [
    "# Run chi-square test\n",
    "chi2, pval, dof, exp = chi2_contingency(Xtab)\n",
    "print(\"p-value for chi-square test: \", pval)"
   ]
  },
  {
   "cell_type": "markdown",
   "metadata": {},
   "source": [
    "The result is equivalent to 0.0000000000000000125. This is less than 0.05, so we can conclude that there is a significant association between these variables."
   ]
  }
 ],
 "metadata": {
  "kernelspec": {
   "display_name": "Python 3.9.12 ('base')",
   "language": "python",
   "name": "python3"
  },
  "language_info": {
   "codemirror_mode": {
    "name": "ipython",
    "version": 3
   },
   "file_extension": ".py",
   "mimetype": "text/x-python",
   "name": "python",
   "nbconvert_exporter": "python",
   "pygments_lexer": "ipython3",
   "version": "3.9.12"
  },
  "orig_nbformat": 4,
  "vscode": {
   "interpreter": {
    "hash": "bad3e0717367b3cff4aae9c6c5645f8f35fe4ca9a016dd7720b001d80364b124"
   }
  }
 },
 "nbformat": 4,
 "nbformat_minor": 2
}
