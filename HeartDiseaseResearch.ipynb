{
 "cells": [
  {
   "cell_type": "markdown",
   "metadata": {},
   "source": [
    "## Cholesterol Analysis\n",
    "The full dataset has been loaded and split into two subsets:\n",
    "\n",
    "`yes_hd`, which contains data for patients with heart disease\n",
    "`no_hd`, which contains data for patients without heart disease\n",
    "\n",
    "For this project, we’ll investigate the following variables:\n",
    "\n",
    "`chol`: serum cholestorol in mg/dl\n",
    "`fbs`: an indicator for whether fasting blood sugar is greater than 120 mg/dl (`1` = true; `0` = false)"
   ]
  },
  {
   "cell_type": "code",
   "execution_count": 18,
   "metadata": {},
   "outputs": [],
   "source": [
    "# Import libraries\n",
    "import pandas as pd\n",
    "import numpy as np\n",
    "\n",
    "from scipy.stats import ttest_1samp\n",
    "from scipy.stats import binom_test\n",
    "from scipy.stats import ttest_ind\n",
    "\n",
    "import matplotlib.pyplot as plt \n",
    "import seaborn as sns\n",
    "\n",
    "# Load data\n",
    "heart = pd.read_csv('heart_disease_data.csv')\n",
    "yes_hd = heart[heart.heart_disease == 'presence']\n",
    "no_hd = heart[heart.heart_disease == 'absence']"
   ]
  },
  {
   "cell_type": "markdown",
   "metadata": {},
   "source": [
    "To start, we’ll investigate cholesterol levels for patients with heart disease. We'll be using the dataset `yes_hd` to save cholesterol levels for patients with heart disease as a variable named `chol_hd`."
   ]
  },
  {
   "cell_type": "code",
   "execution_count": 3,
   "metadata": {},
   "outputs": [
    {
     "name": "stdout",
     "output_type": "stream",
     "text": [
      "251\n"
     ]
    }
   ],
   "source": [
    "# Get cholesterol levels for patients with heart disease\n",
    "chol_hd = yes_hd.chol\n",
    "\n",
    "# Calculate the mean cholesterol for people with heart disease\n",
    "mean_chol_hd = np.mean(chol_hd)\n",
    "# Print the rounded value\n",
    "print(round(mean_chol_hd))"
   ]
  },
  {
   "cell_type": "markdown",
   "metadata": {},
   "source": [
    "We want to know if people with heart disease have high cholesterol levels (greater than or equal to 240 mg/dl) on average. We'll have to run a two-sided test for it."
   ]
  },
  {
   "cell_type": "code",
   "execution_count": 4,
   "metadata": {},
   "outputs": [
    {
     "name": "stdout",
     "output_type": "stream",
     "text": [
      "0.0035411033905155703\n"
     ]
    }
   ],
   "source": [
    "# Compare to cut-off for high cholesterol\n",
    "tstat, pval = ttest_1samp(chol_hd, 240)\n",
    "# Calculate the p-value for the one-sided test by dividing the two-sided p-value in half\n",
    "print(pval/2)"
   ]
  },
  {
   "cell_type": "markdown",
   "metadata": {},
   "source": [
    "The result `0.0035` is less than a significance threshold of `0.05`, suggesting that heart disease patients have an average cholesterol level higher than 240 mg/dl.\n",
    "\n",
    "Now we want to answer the same question for patients without heart disease, thus we'll repeat the previous steps for `no_hd`."
   ]
  },
  {
   "cell_type": "code",
   "execution_count": 5,
   "metadata": {},
   "outputs": [
    {
     "name": "stdout",
     "output_type": "stream",
     "text": [
      "243\n",
      "0.26397120232220506\n"
     ]
    }
   ],
   "source": [
    "# Get cholesterol levels for patients without heart disease\n",
    "chol_no_hd = no_hd.chol\n",
    "\n",
    "# Calculate the mean cholesterol for people without heart disease\n",
    "mean_chol_no_hd = np.mean(chol_no_hd)\n",
    "# Print the rounded value\n",
    "print(round(mean_chol_no_hd))\n",
    "\n",
    "# Compare to cut-off for high cholesterol\n",
    "tstat, pval = ttest_1samp(chol_no_hd, 240)\n",
    "# Calculate the p-value for the one-sided test by dividing the two-sided p-value in half\n",
    "print(pval/2)"
   ]
  },
  {
   "cell_type": "markdown",
   "metadata": {},
   "source": [
    "## Fasting Blood Sugar Analysis\n",
    "\n",
    "The fbs column of this dataset indicates whether or not a patient’s fasting blood sugar was greater than 120 mg/dl (`1` means that their fasting blood sugar was greater than 120 mg/dl; `0` means it was less than or equal to 120 mg/dl). Thus, we can first calculate the length of the dataset and then use `sum` to separate those of greater blood sugar value."
   ]
  },
  {
   "cell_type": "code",
   "execution_count": 6,
   "metadata": {},
   "outputs": [
    {
     "name": "stdout",
     "output_type": "stream",
     "text": [
      "303\n",
      "45.0\n"
     ]
    }
   ],
   "source": [
    "# Calculate the total number of patients in the heart dataset\n",
    "num_patients = len(heart)\n",
    "# Print the results\n",
    "print(num_patients)\n",
    "\n",
    "# Calculate number of patients with fbs>120\n",
    "num_highfbs_patients = np.sum(heart.fbs)\n",
    "# Print the results\n",
    "print(num_highfbs_patients)"
   ]
  },
  {
   "cell_type": "markdown",
   "metadata": {},
   "source": [
    "Sometimes, part of an analysis will involve comparing a sample to known population values to see if the sample appears to be representative of the general population. By some estimates, about 8% of the U.S. population had diabetes (diagnosed or undiagnosed) in 1988. \n",
    "\n",
    "While there are multiple tests that contribute to a diabetes diagnosis, fasting blood sugar levels greater than 120 mg/dl can be indicative of diabetes (or at least, pre-diabetes). We want to know approximately how many people would have diabetes, if this sample were representative of the population.\n",
    "\n"
   ]
  },
  {
   "cell_type": "code",
   "execution_count": 7,
   "metadata": {},
   "outputs": [
    {
     "name": "stdout",
     "output_type": "stream",
     "text": [
      "24\n"
     ]
    }
   ],
   "source": [
    "# Calculate 8% of sample size\n",
    "print(round(0.08*num_patients))"
   ]
  },
  {
   "cell_type": "markdown",
   "metadata": {},
   "source": [
    "This comes out to approximately 24 patients, which is almost half the number with fbs > 120 in the sample (45).\n",
    "\n",
    "We now can test the following null and alternative hypotheses:\n",
    "\n",
    "- Null: This sample was drawn from a population where 8% of people have fasting blood sugar > 120 mg/dl\n",
    "- Alternative: This sample was drawn from a population where more than 8% of people have fasting blood sugar > 120 mg/dl\n",
    "\n",
    "The `binom_test()` function takes four parameters:\n",
    "- The number of people in the sample who had fasting blood sugar greater than 120 mg/dl\n",
    "- The total number of patients\n",
    "- The null probability of \"success\" - in this case, 0.08\n",
    "- The alternative parameter, which indicates the alternative hypothesis for the test - in this case, \"greater\"\n",
    "The output is the p-value."
   ]
  },
  {
   "cell_type": "code",
   "execution_count": 8,
   "metadata": {},
   "outputs": [
    {
     "name": "stdout",
     "output_type": "stream",
     "text": [
      "4.6894719514488777e-05\n"
     ]
    }
   ],
   "source": [
    "# Run binomial test\n",
    "pval = binom_test(num_highfbs_patients, num_patients, .08, alternative='greater')\n",
    "# Print the result\n",
    "print(pval)"
   ]
  },
  {
   "cell_type": "markdown",
   "metadata": {},
   "source": [
    "\n",
    "The result is equivalent to 0.0000469. This is less than a significance threshold of 0.05, indicating that this sample likely comes from a population where more than 8% of people have fbs > 120 mg/dl."
   ]
  },
  {
   "cell_type": "markdown",
   "metadata": {},
   "source": [
    "### Predictors of Heart Disease\n",
    "Each of the patients in this dataset underwent an exercise test, during which their heart rate was monitored. For each patient, `thalach` gives us the highest heart rate that the patient achieved during this test.\n",
    "\n",
    "We'd like to see if `thalach` is associated with whether or not a patient will ultimately be diagnosed with `heart_disease`. We'll plot side by side box plots of `thalach` for patients who were and were not diagnosed to check if there is a relationship between variables."
   ]
  },
  {
   "cell_type": "code",
   "execution_count": 9,
   "metadata": {},
   "outputs": [
    {
     "data": {
      "image/png": "[encoded data removed]",
      "text/plain": [
       "<Figure size 432x288 with 1 Axes>"
      ]
     },
     "metadata": {
      "needs_background": "light"
     },
     "output_type": "display_data"
    }
   ],
   "source": [
    "# Create and show box plots of thalach based on heart disease\n",
    "sns.boxplot(x = heart.heart_disease, y = heart.thalach)\n",
    "plt.show()"
   ]
  },
  {
   "cell_type": "markdown",
   "metadata": {},
   "source": [
    "Based on this plot, patients diagnosed with heart disease generally had a lower maximum heart rate during their exercise test."
   ]
  },
  {
   "cell_type": "code",
   "execution_count": 17,
   "metadata": {},
   "outputs": [
    {
     "name": "stdout",
     "output_type": "stream",
     "text": [
      "Mean Difference for thalach:  19.12\n",
      "Median Difference for thalach:  19.0\n"
     ]
    }
   ],
   "source": [
    "# Save thalach for hd patients and non-hd patients\n",
    "thalach_hd = heart.thalach[heart.heart_disease == 'presence']\n",
    "thalach_no_hd = heart.thalach[heart.heart_disease == 'absence']\n",
    "\n",
    "# Calculate and print mean difference\n",
    "mean_diff = np.mean(thalach_no_hd) - np.mean(thalach_hd)\n",
    "print(\"Mean Difference for thalach: \", round(mean_diff, 2))\n",
    "\n",
    "# Calculate and print median difference\n",
    "med_diff = np.median(thalach_no_hd) - np.median(thalach_hd)\n",
    "print(\"Median Difference for thalach: \", med_diff)"
   ]
  },
  {
   "cell_type": "markdown",
   "metadata": {},
   "source": [
    "We’d like to find out if the average thalach of a heart disease patient is significantly different from the average thalach for a person without heart disease. We'll test the following null and alternative hypotheses:\n",
    "- null: the average thalach for a person with heart disease is equal to the average thalach for a person without heart disease\n",
    "- alternative: the average thalach for a person with heart disease is NOT equal to the average thalach for a person without heart disease"
   ]
  },
  {
   "cell_type": "code",
   "execution_count": 19,
   "metadata": {},
   "outputs": [
    {
     "name": "stdout",
     "output_type": "stream",
     "text": [
      "p-value for `thalach` two-sample t-test:  3.456964908430172e-14\n"
     ]
    }
   ],
   "source": [
    "# Run two-sample t-test\n",
    "tstat, pval = ttest_ind(thalach_hd, thalach_no_hd)\n",
    "print(\"p-value for `thalach` two-sample t-test: \", pval)"
   ]
  },
  {
   "cell_type": "markdown",
   "metadata": {},
   "source": [
    "The result of the two-sample test is equivalent to 0.00000000000003457. Using a significance threshold of 0.05, we “reject the null hypothesis” and conclude that there is a significant difference in 'thalach' for people with heart disease compared to people without heart disease.\n",
    "\n",
    "Using the same process, let's investigate other quantitative variables."
   ]
  },
  {
   "cell_type": "code",
   "execution_count": 21,
   "metadata": {},
   "outputs": [
    {
     "data": {
      "image/png": "[encoded data removed]",
      "text/plain": [
       "<Figure size 432x288 with 1 Axes>"
      ]
     },
     "metadata": {
      "needs_background": "light"
     },
     "output_type": "display_data"
    },
    {
     "name": "stdout",
     "output_type": "stream",
     "text": [
      "Mean Difference for age:  4.040533426917001\n",
      "Median Difference for age:  6.0\n",
      "p-value for age two-sample t-test:  8.95563691752971e-05\n"
     ]
    },
    {
     "data": {
      "image/png": "[encoded data removed]",
      "text/plain": [
       "<Figure size 432x288 with 1 Axes>"
      ]
     },
     "metadata": {
      "needs_background": "light"
     },
     "output_type": "display_data"
    },
    {
     "name": "stdout",
     "output_type": "stream",
     "text": [
      "Mean Difference for trestbps:  5.318345323740999\n",
      "Median Difference for trestbps:  0.0\n",
      "p-value for trestbps two-sample t-test:  0.008548268928594928\n"
     ]
    },
    {
     "data": {
      "image/png": "[encoded data removed]",
      "text/plain": [
       "<Figure size 432x288 with 1 Axes>"
      ]
     },
     "metadata": {
      "needs_background": "light"
     },
     "output_type": "display_data"
    },
    {
     "name": "stdout",
     "output_type": "stream",
     "text": [
      "Mean Difference for chol:  8.834576241445887\n",
      "Median Difference for chol:  14.5\n",
      "p-value for chol two-sample t-test:  0.13914167020436527\n"
     ]
    }
   ],
   "source": [
    "# Calculate age variable\n",
    "plt.clf()\n",
    "sns.boxplot(x=heart.heart_disease, y=heart.age)\n",
    "plt.show()\n",
    "\n",
    "age_hd = heart.age[heart.heart_disease == 'presence']\n",
    "age_no_hd = heart.age[heart.heart_disease == 'absence']\n",
    "\n",
    "mean_diff = np.mean(age_hd) - np.mean(age_no_hd)\n",
    "print(\"Mean Difference for age: \", mean_diff)\n",
    "\n",
    "med_diff = np.median(age_hd) - np.median(age_no_hd)\n",
    "print(\"Median Difference for age: \", med_diff)\n",
    "\n",
    "tstat, pval = ttest_ind(age_hd, age_no_hd)\n",
    "print(\"p-value for age two-sample t-test: \", pval)\n",
    "\n",
    "# Calculate trestbps variable\n",
    "plt.clf()\n",
    "sns.boxplot(x=heart.heart_disease, y=heart.trestbps)\n",
    "plt.show()\n",
    "\n",
    "trestbps_hd = heart.trestbps[heart.heart_disease == 'presence']\n",
    "trestbps_no_hd = heart.trestbps[heart.heart_disease == 'absence']\n",
    "\n",
    "mean_diff = np.mean(trestbps_hd) - np.mean(trestbps_no_hd)\n",
    "print(\"Mean Difference for trestbps: \", mean_diff)\n",
    "\n",
    "med_diff = np.median(trestbps_hd) - np.median(trestbps_no_hd)\n",
    "print(\"Median Difference for trestbps: \", med_diff)\n",
    "\n",
    "tstat, pval = ttest_ind(trestbps_hd, trestbps_no_hd)\n",
    "print(\"p-value for trestbps two-sample t-test: \", pval)\n",
    "\n",
    "# Calculate chol variable\n",
    "plt.clf()\n",
    "sns.boxplot(x=heart.heart_disease, y=heart.chol)\n",
    "plt.show()\n",
    "\n",
    "chol_hd = heart.chol[heart.heart_disease == 'presence']\n",
    "chol_no_hd = heart.chol[heart.heart_disease == 'absence']\n",
    "\n",
    "mean_diff = np.mean(chol_hd) - np.mean(chol_no_hd)\n",
    "print(\"Mean Difference for chol: \", mean_diff)\n",
    "\n",
    "med_diff = np.median(chol_hd) - np.median(chol_no_hd)\n",
    "print(\"Median Difference for chol: \", med_diff)\n",
    "\n",
    "tstat, pval = ttest_ind(chol_hd, chol_no_hd)\n",
    "print(\"p-value for chol two-sample t-test: \", pval)"
   ]
  },
  {
   "cell_type": "markdown",
   "metadata": {},
   "source": [
    "### Chest Pain and Max Heart Rate\n",
    "Now we want to investigate the relationship between `thalach` (maximum heart rate achieved during exercise) and the type of heart pain a person experiences. Let's create a set of side-by-side box plots of thalach for each chest pain type in the data. "
   ]
  },
  {
   "cell_type": "code",
   "execution_count": null,
   "metadata": {},
   "outputs": [],
   "source": []
  }
 ],
 "metadata": {
  "kernelspec": {
   "display_name": "Python 3.9.12 ('base')",
   "language": "python",
   "name": "python3"
  },
  "language_info": {
   "codemirror_mode": {
    "name": "ipython",
    "version": 3
   },
   "file_extension": ".py",
   "mimetype": "text/x-python",
   "name": "python",
   "nbconvert_exporter": "python",
   "pygments_lexer": "ipython3",
   "version": "3.9.12"
  },
  "orig_nbformat": 4,
  "vscode": {
   "interpreter": {
    "hash": "bad3e0717367b3cff4aae9c6c5645f8f35fe4ca9a016dd7720b001d80364b124"
   }
  }
 },
 "nbformat": 4,
 "nbformat_minor": 2
}
