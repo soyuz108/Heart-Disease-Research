{
 "cells": [
  {
   "cell_type": "markdown",
   "metadata": {},
   "source": [
    "## Cholesterol Analysis\n",
    "The full dataset has been loaded and split into two subsets:\n",
    "\n",
    "`yes_hd`, which contains data for patients with heart disease\n",
    "`no_hd`, which contains data for patients without heart disease\n",
    "\n",
    "For this project, we’ll investigate the following variables:\n",
    "\n",
    "`chol`: serum cholestorol in mg/dl\n",
    "`fbs`: an indicator for whether fasting blood sugar is greater than 120 mg/dl (`1` = true; `0` = false)"
   ]
  },
  {
   "cell_type": "code",
   "execution_count": 12,
   "metadata": {},
   "outputs": [],
   "source": [
    "# Import libraries\n",
    "import pandas as pd\n",
    "import numpy as np\n",
    "from scipy.stats import ttest_1samp\n",
    "\n",
    "# Load data\n",
    "heart = pd.read_csv('heart_disease_data.csv')\n",
    "yes_hd = heart[heart.heart_disease == 'presence']\n",
    "no_hd = heart[heart.heart_disease == 'absence']"
   ]
  },
  {
   "cell_type": "markdown",
   "metadata": {},
   "source": [
    "To start, we’ll investigate cholesterol levels for patients with heart disease. We'll be using the dataset `yes_hd` to save cholesterol levels for patients with heart disease as a variable named `chol_hd`."
   ]
  },
  {
   "cell_type": "code",
   "execution_count": 13,
   "metadata": {},
   "outputs": [
    {
     "name": "stdout",
     "output_type": "stream",
     "text": [
      "251\n"
     ]
    }
   ],
   "source": [
    "# Get cholesterol levels for patients with heart disease\n",
    "chol_hd = yes_hd.chol\n",
    "\n",
    "# Calculate the mean cholesterol for people with heart disease\n",
    "mean_chol_hd = np.mean(chol_hd)\n",
    "# Print the rounded value\n",
    "print(round(mean_chol_hd))"
   ]
  },
  {
   "cell_type": "markdown",
   "metadata": {},
   "source": [
    "We want to know if people with heart disease have high cholesterol levels (greater than or equal to 240 mg/dl) on average. We'll have to run a two-sided test for it."
   ]
  },
  {
   "cell_type": "code",
   "execution_count": 14,
   "metadata": {},
   "outputs": [
    {
     "name": "stdout",
     "output_type": "stream",
     "text": [
      "0.0035411033905155703\n"
     ]
    }
   ],
   "source": [
    "# Compare to cut-off for high cholesterol\n",
    "tstat, pval = ttest_1samp(chol_hd, 240)\n",
    "# Calculate the p-value for the one-sided test by dividing the two-sided p-value in half\n",
    "print(pval/2)"
   ]
  },
  {
   "cell_type": "markdown",
   "metadata": {},
   "source": [
    "The result `0.0035` is less than a significance threshold of `0.05`, suggesting that heart disease patients have an average cholesterol level higher than 240 mg/dl.\n",
    "\n",
    "Now we want to answer the same question for patients without heart disease, thus we'll repeat the previous steps for `no_hd`."
   ]
  },
  {
   "cell_type": "code",
   "execution_count": 16,
   "metadata": {},
   "outputs": [
    {
     "name": "stdout",
     "output_type": "stream",
     "text": [
      "243\n",
      "0.26397120232220506\n"
     ]
    }
   ],
   "source": [
    "# Get cholesterol levels for patients without heart disease\n",
    "chol_no_hd = no_hd.chol\n",
    "\n",
    "# Calculate the mean cholesterol for people without heart disease\n",
    "mean_chol_no_hd = np.mean(chol_no_hd)\n",
    "# Print the rounded value\n",
    "print(round(mean_chol_no_hd))\n",
    "\n",
    "# Compare to cut-off for high cholesterol\n",
    "tstat, pval = ttest_1samp(chol_no_hd, 240)\n",
    "# Calculate the p-value for the one-sided test by dividing the two-sided p-value in half\n",
    "print(pval/2)"
   ]
  },
  {
   "cell_type": "markdown",
   "metadata": {},
   "source": [
    "## Fasting Blood Sugar Analysis\n",
    "\n",
    "The fbs column of this dataset indicates whether or not a patient’s fasting blood sugar was greater than 120 mg/dl (`1` means that their fasting blood sugar was greater than 120 mg/dl; `0` means it was less than or equal to 120 mg/dl). Thus, we can first calculate the length of the dataset and then use `sum` to separate those of greater blood sugar value."
   ]
  },
  {
   "cell_type": "code",
   "execution_count": 19,
   "metadata": {},
   "outputs": [
    {
     "name": "stdout",
     "output_type": "stream",
     "text": [
      "303\n",
      "45.0\n"
     ]
    }
   ],
   "source": [
    "# Calculate the total number of patients in the heart dataset\n",
    "num_patients = len(heart)\n",
    "# Print the results\n",
    "print(num_patients)\n",
    "\n",
    "# Calculate number of patients with fbs>120\n",
    "num_highfbs_patients = np.sum(heart.fbs)\n",
    "# Print the results\n",
    "print(num_highfbs_patients)"
   ]
  }
 ],
 "metadata": {
  "kernelspec": {
   "display_name": "Python 3.9.12 ('base')",
   "language": "python",
   "name": "python3"
  },
  "language_info": {
   "codemirror_mode": {
    "name": "ipython",
    "version": 3
   },
   "file_extension": ".py",
   "mimetype": "text/x-python",
   "name": "python",
   "nbconvert_exporter": "python",
   "pygments_lexer": "ipython3",
   "version": "3.9.12"
  },
  "orig_nbformat": 4,
  "vscode": {
   "interpreter": {
    "hash": "bad3e0717367b3cff4aae9c6c5645f8f35fe4ca9a016dd7720b001d80364b124"
   }
  }
 },
 "nbformat": 4,
 "nbformat_minor": 2
}
